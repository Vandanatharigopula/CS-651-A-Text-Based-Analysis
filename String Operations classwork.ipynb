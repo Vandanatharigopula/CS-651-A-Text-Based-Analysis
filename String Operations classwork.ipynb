{
 "cells": [
  {
   "cell_type": "markdown",
   "id": "d3efad86",
   "metadata": {},
   "source": [
    "# CS-651-A TEXT BASED ANALYSIS  \n",
    "# Sai Vandana - 0939231\n",
    "# Classwork - 1  4/6/2024"
   ]
  },
  {
   "cell_type": "markdown",
   "id": "d1d9f68c",
   "metadata": {},
   "source": [
    "# String Operations"
   ]
  },
  {
   "cell_type": "markdown",
   "id": "1874b68b",
   "metadata": {},
   "source": [
    "#### printing simple Hello world program"
   ]
  },
  {
   "cell_type": "code",
   "execution_count": 1,
   "id": "d1e0c72b",
   "metadata": {},
   "outputs": [
    {
     "name": "stdout",
     "output_type": "stream",
     "text": [
      "Hello, World!\n"
     ]
    }
   ],
   "source": [
    "a=\"Hello, World!\"\n",
    "print(a)"
   ]
  },
  {
   "cell_type": "markdown",
   "id": "561356da",
   "metadata": {},
   "source": [
    "#### performing slicing operation on the given string"
   ]
  },
  {
   "cell_type": "code",
   "execution_count": 2,
   "id": "1ea7d5c1",
   "metadata": {},
   "outputs": [
    {
     "name": "stdout",
     "output_type": "stream",
     "text": [
      "llo\n"
     ]
    }
   ],
   "source": [
    "a=\"Hello, World!\"\n",
    "print(a[2:5])"
   ]
  },
  {
   "cell_type": "markdown",
   "id": "04981640",
   "metadata": {},
   "source": [
    "#### program to convert the string to uppercase letters"
   ]
  },
  {
   "cell_type": "code",
   "execution_count": 4,
   "id": "7aa2c9f1",
   "metadata": {},
   "outputs": [
    {
     "name": "stdout",
     "output_type": "stream",
     "text": [
      "HELLO, WORLD!\n"
     ]
    }
   ],
   "source": [
    "a=\"Hello, World!\"\n",
    "print(a.upper())"
   ]
  },
  {
   "cell_type": "markdown",
   "id": "be40ce21",
   "metadata": {},
   "source": [
    "#### program to convert the given string to lowercase letters"
   ]
  },
  {
   "cell_type": "code",
   "execution_count": 5,
   "id": "e1462995",
   "metadata": {},
   "outputs": [
    {
     "name": "stdout",
     "output_type": "stream",
     "text": [
      "hello, world!\n"
     ]
    }
   ],
   "source": [
    "a=\"Hello, World!\"\n",
    "print(a.lower())"
   ]
  },
  {
   "cell_type": "markdown",
   "id": "7f5bc986",
   "metadata": {},
   "source": [
    "#### program to perform concatenation between two strings"
   ]
  },
  {
   "cell_type": "code",
   "execution_count": 6,
   "id": "d5be65e3",
   "metadata": {},
   "outputs": [
    {
     "name": "stdout",
     "output_type": "stream",
     "text": [
      "HelloWorld\n"
     ]
    }
   ],
   "source": [
    "a=\"Hello\"\n",
    "b=\"World\"\n",
    "c=a+\"\"+b\n",
    "print(c)"
   ]
  },
  {
   "cell_type": "markdown",
   "id": "2adb6b40",
   "metadata": {},
   "source": [
    "#### program to perform lstrip operation "
   ]
  },
  {
   "cell_type": "code",
   "execution_count": 20,
   "id": "58ad6618",
   "metadata": {},
   "outputs": [
    {
     "name": "stdout",
     "output_type": "stream",
     "text": [
      "Hello, World!\n"
     ]
    }
   ],
   "source": [
    "a=\"*****Hello, World!\"\n",
    "print(a.lstrip(\"*\"))"
   ]
  },
  {
   "cell_type": "markdown",
   "id": "3bb96f9a",
   "metadata": {},
   "source": [
    "#### program to perform rstrip "
   ]
  },
  {
   "cell_type": "code",
   "execution_count": 22,
   "id": "c8c37014",
   "metadata": {},
   "outputs": [
    {
     "name": "stdout",
     "output_type": "stream",
     "text": [
      "Hello, World!\n"
     ]
    }
   ],
   "source": [
    "a=\"Hello, World!\"\n",
    "print(a.rstrip())"
   ]
  },
  {
   "cell_type": "markdown",
   "id": "28ccaa0c",
   "metadata": {},
   "source": [
    "#### program to perform strip operation"
   ]
  },
  {
   "cell_type": "code",
   "execution_count": 13,
   "id": "8b20d664",
   "metadata": {},
   "outputs": [
    {
     "name": "stdout",
     "output_type": "stream",
     "text": [
      "ello, World!\n"
     ]
    }
   ],
   "source": [
    "a=\"Hello, World!\"\n",
    "print(a.strip(\"H\"))"
   ]
  },
  {
   "cell_type": "code",
   "execution_count": 23,
   "id": "a7dfb92c",
   "metadata": {},
   "outputs": [
    {
     "name": "stdout",
     "output_type": "stream",
     "text": [
      "Hello, World!\n"
     ]
    }
   ],
   "source": [
    "a=\"   Hello, World!   \"\n",
    "print(a.strip())"
   ]
  },
  {
   "cell_type": "markdown",
   "id": "144ad005",
   "metadata": {},
   "source": [
    "#### This provided code checks if the string a starts with the letter \"H\" and prints True if it does, otherwise it prints False."
   ]
  },
  {
   "cell_type": "code",
   "execution_count": 24,
   "id": "a2380050",
   "metadata": {},
   "outputs": [
    {
     "name": "stdout",
     "output_type": "stream",
     "text": [
      "True\n"
     ]
    }
   ],
   "source": [
    "a=\"Hello, World!\"\n",
    "print(a.startswith(\"H\"))"
   ]
  },
  {
   "cell_type": "markdown",
   "id": "dd3ff463",
   "metadata": {},
   "source": [
    "#### Similarly this code checks if the string a ends with the letter \"z\" and prints True if it does, otherwise it prints False."
   ]
  },
  {
   "cell_type": "code",
   "execution_count": 25,
   "id": "ed957393",
   "metadata": {},
   "outputs": [
    {
     "name": "stdout",
     "output_type": "stream",
     "text": [
      "False\n"
     ]
    }
   ],
   "source": [
    "a=\"Hello, World!\"\n",
    "print(a.endswith(\"z\"))"
   ]
  },
  {
   "cell_type": "markdown",
   "id": "c997ab3b",
   "metadata": {},
   "source": [
    "#### program to find the substring in the given string"
   ]
  },
  {
   "cell_type": "code",
   "execution_count": 26,
   "id": "092339bf",
   "metadata": {},
   "outputs": [
    {
     "name": "stdout",
     "output_type": "stream",
     "text": [
      "2\n"
     ]
    }
   ],
   "source": [
    "a=\"Hello, World!\"\n",
    "print(a.find(\"llo\"))"
   ]
  },
  {
   "cell_type": "markdown",
   "id": "50b54b45",
   "metadata": {},
   "source": [
    "#### program to replace a string"
   ]
  },
  {
   "cell_type": "code",
   "execution_count": 27,
   "id": "9a6af4e4",
   "metadata": {},
   "outputs": [
    {
     "name": "stdout",
     "output_type": "stream",
     "text": [
      "Hello, Vandana!\n"
     ]
    }
   ],
   "source": [
    "a=\"Hello, World!\"\n",
    "print(a.replace(\"World!\", \"Vandana!\"))"
   ]
  },
  {
   "cell_type": "code",
   "execution_count": 29,
   "id": "ad0a1928",
   "metadata": {},
   "outputs": [
    {
     "data": {
      "text/plain": [
       "'everything is perfect'"
      ]
     },
     "execution_count": 29,
     "metadata": {},
     "output_type": "execute_result"
    }
   ],
   "source": [
    "a=\"   everything is perfect\"\n",
    "a.lstrip()"
   ]
  },
  {
   "cell_type": "code",
   "execution_count": 30,
   "id": "82b3a101",
   "metadata": {},
   "outputs": [
    {
     "data": {
      "text/plain": [
       "11"
      ]
     },
     "execution_count": 30,
     "metadata": {},
     "output_type": "execute_result"
    }
   ],
   "source": [
    "a=\"everything is perfect\"\n",
    "a.find(\"is\")"
   ]
  },
  {
   "cell_type": "markdown",
   "id": "527e6698",
   "metadata": {},
   "source": [
    "#### program to perform split operation"
   ]
  },
  {
   "cell_type": "code",
   "execution_count": 31,
   "id": "4032c7f6",
   "metadata": {},
   "outputs": [
    {
     "data": {
      "text/plain": [
       "['everything', 'is', 'perfect']"
      ]
     },
     "execution_count": 31,
     "metadata": {},
     "output_type": "execute_result"
    }
   ],
   "source": [
    "a=\"   everything is perfect\"\n",
    "a.split()"
   ]
  },
  {
   "cell_type": "code",
   "execution_count": 32,
   "id": "56788db0",
   "metadata": {},
   "outputs": [
    {
     "data": {
      "text/plain": [
       "['17', '27', '37', '47', '57', '67']"
      ]
     },
     "execution_count": 32,
     "metadata": {},
     "output_type": "execute_result"
    }
   ],
   "source": [
    "s = \"17;27;37;47;57;67\"\n",
    "s.split(\";\")"
   ]
  },
  {
   "cell_type": "markdown",
   "id": "8fc5934c",
   "metadata": {},
   "source": [
    "## Regular expressions"
   ]
  },
  {
   "cell_type": "markdown",
   "id": "1a7efcb8",
   "metadata": {},
   "source": [
    "*The function tokenize returns a list of all occurrences of the substring within the provided text"
   ]
  },
  {
   "cell_type": "markdown",
   "id": "aa2e1aa6",
   "metadata": {},
   "source": [
    "1. The provided tokenize function uses the re.findall() method to search for all non-overlapping occurrences of the exact substring \"abc\" within the given text and returns them as a list"
   ]
  },
  {
   "cell_type": "code",
   "execution_count": 34,
   "id": "ca5ac217",
   "metadata": {},
   "outputs": [
    {
     "data": {
      "text/plain": [
       "['abc', 'abc', 'abc', 'abc', 'abc']"
      ]
     },
     "execution_count": 34,
     "metadata": {},
     "output_type": "execute_result"
    }
   ],
   "source": [
    "import regex as re\n",
    "def tokenize(text):\n",
    "    return re.findall(r'abc', text)\n",
    "x = tokenize(\"abcd 45abc abc% abc.com acbrx .=.abc.=. ab c cba ABC \")\n",
    "x"
   ]
  },
  {
   "cell_type": "markdown",
   "id": "16e94432",
   "metadata": {},
   "source": [
    "2. In the below program tokenize function searches for and returns all non-overlapping matches of the pattern .=.abc.=. within the given text, specifically looking for occurrences of \"abc\" that are both preceded and followed by a dot (.), an equal sign (=), and another dot in sequence."
   ]
  },
  {
   "cell_type": "code",
   "execution_count": 35,
   "id": "1e8a09bf",
   "metadata": {},
   "outputs": [
    {
     "data": {
      "text/plain": [
       "['.=.abc.=.']"
      ]
     },
     "execution_count": 35,
     "metadata": {},
     "output_type": "execute_result"
    }
   ],
   "source": [
    "import regex as re\n",
    "def tokenize(text):\n",
    "    return re.findall(r'.=.abc.=.', text)\n",
    "x = tokenize(\"abcd 45abc abc% abc.com acbrx .=.abc.=. ab c cba ABC \")\n",
    "x"
   ]
  },
  {
   "cell_type": "markdown",
   "id": "2d58a0bb",
   "metadata": {},
   "source": [
    "3.In the following program tokenize function finds and returns all non-overlapping matches in the given text for the regex pattern '.oo.y', which looks for any sequence of characters that starts and ends with any character The tokenize function finds and returns all non-overlapping matches in the given text for the regex pattern '.oo.y', which looks for any sequence of characters that starts and ends with any character denoted by . , with \"oo\" in the middle followed by any character and then \"y\"., with \"oo\" in the middle followed by any character and then \"y\"."
   ]
  },
  {
   "cell_type": "code",
   "execution_count": 36,
   "id": "0ccd0088",
   "metadata": {},
   "outputs": [
    {
     "data": {
      "text/plain": [
       "['gooey', 'moody', 'roody', 'goofy', 'loopy']"
      ]
     },
     "execution_count": 36,
     "metadata": {},
     "output_type": "execute_result"
    }
   ],
   "source": [
    "import regex as re\n",
    "def tokenize(text):\n",
    "    return re.findall(r'.oo.y', text)\n",
    "x = tokenize(\" abcd gooey moody broody goofy gummy mooooudy loopy ooy \")\n",
    "x"
   ]
  },
  {
   "cell_type": "markdown",
   "id": "e357b83d",
   "metadata": {},
   "source": [
    "4.The tokenize function searches for and returns all non-overlapping matches of the exact string \"abc.abc.com\" within the given text, specifically looking for occurrences that include the literal dot character (.) as specified by \\. in the regex pattern.\n",
    "\n",
    "\n",
    "\n",
    "\n",
    "\n",
    "\n"
   ]
  },
  {
   "cell_type": "code",
   "execution_count": 37,
   "id": "f7f67ffa",
   "metadata": {},
   "outputs": [
    {
     "data": {
      "text/plain": [
       "['abc.abc.com', 'abc.abc,com']"
      ]
     },
     "execution_count": 37,
     "metadata": {},
     "output_type": "execute_result"
    }
   ],
   "source": [
    "import regex as re\n",
    "def tokenize(text):\n",
    "    return re.findall(r'abc\\.abc.com', text)\n",
    "x = tokenize(\"abc.abc.com abc.abc,com abc,abc.com ABC.abc.com \")\n",
    "x"
   ]
  },
  {
   "cell_type": "markdown",
   "id": "3bdafe8a",
   "metadata": {},
   "source": [
    "5.The tokenize function searches for occurrences of the string \"The\" only at the beginning of the given text, returning a match if \"The\" starts the text and an empty list otherwise."
   ]
  },
  {
   "cell_type": "code",
   "execution_count": 38,
   "id": "ea1583a1",
   "metadata": {},
   "outputs": [
    {
     "name": "stdout",
     "output_type": "stream",
     "text": [
      "['The']\n",
      "[]\n"
     ]
    }
   ],
   "source": [
    "import regex as re\n",
    "def tokenize(text):\n",
    "    return re.findall(r'^The', text)\n",
    "x = tokenize(\"Them \")\n",
    "print(x)\n",
    "y= tokenize(\"them\")\n",
    "print(y)"
   ]
  },
  {
   "cell_type": "markdown",
   "id": "8d23294e",
   "metadata": {},
   "source": [
    "6.The tokenize function searches for and returns all non-overlapping matches of either the string \"abc\" or \"xyz\" within the given text, finding matches for both \"abc\" and \"xyz\" as separate tokens."
   ]
  },
  {
   "cell_type": "code",
   "execution_count": 39,
   "id": "cd3d2aba",
   "metadata": {},
   "outputs": [
    {
     "name": "stdout",
     "output_type": "stream",
     "text": [
      "['abc', 'xyz', 'xyz']\n"
     ]
    }
   ],
   "source": [
    "import regex as re\n",
    "def tokenize(text):\n",
    "    return re.findall(r'abc|xyz', text)\n",
    "x = tokenize(\"abcd xsdxyz xyz derf\")\n",
    "print(x)"
   ]
  }
 ],
 "metadata": {
  "kernelspec": {
   "display_name": "Python 3 (ipykernel)",
   "language": "python",
   "name": "python3"
  },
  "language_info": {
   "codemirror_mode": {
    "name": "ipython",
    "version": 3
   },
   "file_extension": ".py",
   "mimetype": "text/x-python",
   "name": "python",
   "nbconvert_exporter": "python",
   "pygments_lexer": "ipython3",
   "version": "3.11.5"
  }
 },
 "nbformat": 4,
 "nbformat_minor": 5
}
