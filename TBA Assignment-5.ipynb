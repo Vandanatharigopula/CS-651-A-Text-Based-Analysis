{
 "cells": [
  {
   "cell_type": "markdown",
   "id": "7f62f9ec",
   "metadata": {},
   "source": [
    "# CS-651-A TEXT BASED ANALYSIS\n",
    "# Sai Vandana - 0939231\n",
    "# Assignment - 5 5/4/2024"
   ]
  },
  {
   "cell_type": "markdown",
   "id": "18cd761a",
   "metadata": {},
   "source": [
    "### Reading complaints-2021-05-14_08_16.json file to calculate the bing liu score"
   ]
  },
  {
   "cell_type": "code",
   "execution_count": 47,
   "id": "52e3847e",
   "metadata": {},
   "outputs": [
    {
     "data": {
      "text/html": [
       "<div>\n",
       "<style scoped>\n",
       "    .dataframe tbody tr th:only-of-type {\n",
       "        vertical-align: middle;\n",
       "    }\n",
       "\n",
       "    .dataframe tbody tr th {\n",
       "        vertical-align: top;\n",
       "    }\n",
       "\n",
       "    .dataframe thead th {\n",
       "        text-align: right;\n",
       "    }\n",
       "</style>\n",
       "<table border=\"1\" class=\"dataframe\">\n",
       "  <thead>\n",
       "    <tr style=\"text-align: right;\">\n",
       "      <th></th>\n",
       "      <th>_index</th>\n",
       "      <th>_type</th>\n",
       "      <th>_id</th>\n",
       "      <th>_score</th>\n",
       "      <th>_source</th>\n",
       "    </tr>\n",
       "  </thead>\n",
       "  <tbody>\n",
       "    <tr>\n",
       "      <th>8641</th>\n",
       "      <td>complaint-public-v2</td>\n",
       "      <td>complaint</td>\n",
       "      <td>505714</td>\n",
       "      <td>0</td>\n",
       "      <td>{'tags': None, 'zip_code': '328XX', 'complaint...</td>\n",
       "    </tr>\n",
       "    <tr>\n",
       "      <th>42874</th>\n",
       "      <td>complaint-public-v2</td>\n",
       "      <td>complaint</td>\n",
       "      <td>2768562</td>\n",
       "      <td>0</td>\n",
       "      <td>{'tags': None, 'zip_code': '43123', 'complaint...</td>\n",
       "    </tr>\n",
       "    <tr>\n",
       "      <th>37358</th>\n",
       "      <td>complaint-public-v2</td>\n",
       "      <td>complaint</td>\n",
       "      <td>1035</td>\n",
       "      <td>0</td>\n",
       "      <td>{'tags': None, 'zip_code': '79912', 'complaint...</td>\n",
       "    </tr>\n",
       "    <tr>\n",
       "      <th>16380</th>\n",
       "      <td>complaint-public-v2</td>\n",
       "      <td>complaint</td>\n",
       "      <td>2155543</td>\n",
       "      <td>0</td>\n",
       "      <td>{'tags': None, 'zip_code': '11735', 'complaint...</td>\n",
       "    </tr>\n",
       "    <tr>\n",
       "      <th>59577</th>\n",
       "      <td>complaint-public-v2</td>\n",
       "      <td>complaint</td>\n",
       "      <td>1755122</td>\n",
       "      <td>0</td>\n",
       "      <td>{'tags': None, 'zip_code': '94107', 'complaint...</td>\n",
       "    </tr>\n",
       "    <tr>\n",
       "      <th>53299</th>\n",
       "      <td>complaint-public-v2</td>\n",
       "      <td>complaint</td>\n",
       "      <td>2365450</td>\n",
       "      <td>0</td>\n",
       "      <td>{'tags': None, 'zip_code': '77041', 'complaint...</td>\n",
       "    </tr>\n",
       "    <tr>\n",
       "      <th>44154</th>\n",
       "      <td>complaint-public-v2</td>\n",
       "      <td>complaint</td>\n",
       "      <td>2679175</td>\n",
       "      <td>0</td>\n",
       "      <td>{'tags': None, 'zip_code': '75043', 'complaint...</td>\n",
       "    </tr>\n",
       "    <tr>\n",
       "      <th>53169</th>\n",
       "      <td>complaint-public-v2</td>\n",
       "      <td>complaint</td>\n",
       "      <td>395319</td>\n",
       "      <td>0</td>\n",
       "      <td>{'tags': 'Older American', 'zip_code': '32635'...</td>\n",
       "    </tr>\n",
       "    <tr>\n",
       "      <th>32759</th>\n",
       "      <td>complaint-public-v2</td>\n",
       "      <td>complaint</td>\n",
       "      <td>3643052</td>\n",
       "      <td>0</td>\n",
       "      <td>{'tags': None, 'zip_code': '87110', 'complaint...</td>\n",
       "    </tr>\n",
       "    <tr>\n",
       "      <th>13973</th>\n",
       "      <td>complaint-public-v2</td>\n",
       "      <td>complaint</td>\n",
       "      <td>43718</td>\n",
       "      <td>0</td>\n",
       "      <td>{'tags': None, 'zip_code': '11218', 'complaint...</td>\n",
       "    </tr>\n",
       "  </tbody>\n",
       "</table>\n",
       "</div>"
      ],
      "text/plain": [
       "                    _index      _type      _id  _score  \\\n",
       "8641   complaint-public-v2  complaint   505714       0   \n",
       "42874  complaint-public-v2  complaint  2768562       0   \n",
       "37358  complaint-public-v2  complaint     1035       0   \n",
       "16380  complaint-public-v2  complaint  2155543       0   \n",
       "59577  complaint-public-v2  complaint  1755122       0   \n",
       "53299  complaint-public-v2  complaint  2365450       0   \n",
       "44154  complaint-public-v2  complaint  2679175       0   \n",
       "53169  complaint-public-v2  complaint   395319       0   \n",
       "32759  complaint-public-v2  complaint  3643052       0   \n",
       "13973  complaint-public-v2  complaint    43718       0   \n",
       "\n",
       "                                                 _source  \n",
       "8641   {'tags': None, 'zip_code': '328XX', 'complaint...  \n",
       "42874  {'tags': None, 'zip_code': '43123', 'complaint...  \n",
       "37358  {'tags': None, 'zip_code': '79912', 'complaint...  \n",
       "16380  {'tags': None, 'zip_code': '11735', 'complaint...  \n",
       "59577  {'tags': None, 'zip_code': '94107', 'complaint...  \n",
       "53299  {'tags': None, 'zip_code': '77041', 'complaint...  \n",
       "44154  {'tags': None, 'zip_code': '75043', 'complaint...  \n",
       "53169  {'tags': 'Older American', 'zip_code': '32635'...  \n",
       "32759  {'tags': None, 'zip_code': '87110', 'complaint...  \n",
       "13973  {'tags': None, 'zip_code': '11218', 'complaint...  "
      ]
     },
     "execution_count": 47,
     "metadata": {},
     "output_type": "execute_result"
    }
   ],
   "source": [
    "import pandas as pd \n",
    "df = pd.read_json('complaints-2021-05-14_08_16.json')\n",
    "df.sample(10)"
   ]
  },
  {
   "cell_type": "markdown",
   "id": "413c9298",
   "metadata": {},
   "source": [
    "\n",
    "### The following code imports libraries for data preprocessing and natural language processing, downloads the NLTK opinion lexicon, and displays the total count and examples of positive and negative words from the lexicon."
   ]
  },
  {
   "cell_type": "code",
   "execution_count": 48,
   "id": "cdf109e4",
   "metadata": {},
   "outputs": [
    {
     "name": "stdout",
     "output_type": "stream",
     "text": [
      "Total number of words in opinion lexicon 6789\n",
      "Examples of positive words in opinion lexicon ['a+', 'abound', 'abounds', 'abundance', 'abundant', 'accessable', 'accessible', 'acclaim', 'acclaimed', 'acclamation']\n",
      "Examples of negative words in opinion lexicon ['2-faced', '2-faces', 'abnormal', 'abolish', 'abominable', 'abominably', 'abominate', 'abomination', 'abort', 'aborted']\n"
     ]
    },
    {
     "name": "stderr",
     "output_type": "stream",
     "text": [
      "[nltk_data] Downloading package opinion_lexicon to\n",
      "[nltk_data]     C:\\Users\\tsaiv\\AppData\\Roaming\\nltk_data...\n",
      "[nltk_data]   Package opinion_lexicon is already up-to-date!\n"
     ]
    }
   ],
   "source": [
    "from sklearn import preprocessing\n",
    "import nltk\n",
    "nltk.download('opinion_lexicon')\n",
    "from nltk.corpus import opinion_lexicon\n",
    "from nltk.tokenize import word_tokenize\n",
    "\n",
    "print('Total number of words in opinion lexicon', len(opinion_lexicon.words()))\n",
    "print('Examples of positive words in opinion lexicon',\n",
    "      opinion_lexicon.positive()[:10])\n",
    "print('Examples of negative words in opinion lexicon',\n",
    "      opinion_lexicon.negative()[:10])"
   ]
  },
  {
   "cell_type": "markdown",
   "id": "a5a0068f",
   "metadata": {},
   "source": [
    "### To create a dictionary for scoring our review text"
   ]
  },
  {
   "cell_type": "code",
   "execution_count": 49,
   "id": "97a53c25",
   "metadata": {},
   "outputs": [
    {
     "name": "stderr",
     "output_type": "stream",
     "text": [
      "[nltk_data] Downloading package punkt to\n",
      "[nltk_data]     C:\\Users\\tsaiv\\AppData\\Roaming\\nltk_data...\n",
      "[nltk_data]   Package punkt is already up-to-date!\n"
     ]
    }
   ],
   "source": [
    "# Let's create a dictionary which we can use for scoring our review text\n",
    "nltk.download('punkt')\n",
    "df.rename(columns={\"reviewText\": \"text\"}, inplace=True)\n",
    "pos_score = 1\n",
    "neg_score = -1\n",
    "word_dict = {}\n",
    " \n",
    "# Adding the positive words to the dictionary\n",
    "for word in opinion_lexicon.positive():\n",
    "        word_dict[word] = pos_score\n",
    "      \n",
    "# Adding the negative words to the dictionary\n",
    "for word in opinion_lexicon.negative():\n",
    "        word_dict[word] = neg_score"
   ]
  },
  {
   "cell_type": "markdown",
   "id": "539d1357",
   "metadata": {},
   "source": [
    "### Function to calculate the bing liu score"
   ]
  },
  {
   "cell_type": "code",
   "execution_count": 50,
   "id": "74fca2af",
   "metadata": {},
   "outputs": [],
   "source": [
    "def bing_liu_score(text):\n",
    "    sentiment_score = 0\n",
    "    bag_of_words = word_tokenize(text.lower())\n",
    "    for word in bag_of_words:\n",
    "        if word in word_dict:\n",
    "            sentiment_score += word_dict[word]\n",
    "    return sentiment_score  \n"
   ]
  },
  {
   "cell_type": "markdown",
   "id": "dea2c370",
   "metadata": {},
   "source": [
    "### The code snippet extracts the 'issue' field from a dictionary column '_source' in a DataFrame, setting it as 'no review' if 'issue' is absent, and then prints the first ten entries of this newly created 'text' column."
   ]
  },
  {
   "cell_type": "code",
   "execution_count": 60,
   "id": "adf30c9c",
   "metadata": {},
   "outputs": [
    {
     "name": "stdout",
     "output_type": "stream",
     "text": [
      "0     Attempts to collect debt not owed\n",
      "1       Written notification about debt\n",
      "2    Other features, terms, or problems\n",
      "3        Trouble during payment process\n",
      "4                      Fees or interest\n",
      "5                   Managing an account\n",
      "6                   Managing an account\n",
      "7        Trouble during payment process\n",
      "8                    Closing an account\n",
      "9                   Managing an account\n",
      "Name: text, dtype: object\n"
     ]
    }
   ],
   "source": [
    "# Extract 'issue' from '_source' as the textual data\n",
    "df['text'] = df['_source'].apply(lambda x: x.get('issue', 'no review'))\n",
    "\n",
    "# Verify what the text data looks like now\n",
    "print(df['text'].head(10))\n"
   ]
  },
  {
   "cell_type": "markdown",
   "id": "801074ae",
   "metadata": {},
   "source": [
    "\n",
    "#### The following code defines a function that calculates the word count of textual data, applies this function to the 'text' column of a DataFrame to create a 'Bing_Liu_Score' column, and then prints the first ten entries of both columns to inspect the results."
   ]
  },
  {
   "cell_type": "code",
   "execution_count": 61,
   "id": "f3fcac24",
   "metadata": {},
   "outputs": [
    {
     "name": "stdout",
     "output_type": "stream",
     "text": [
      "                                 text  Bing_Liu_Score\n",
      "0   Attempts to collect debt not owed               6\n",
      "1     Written notification about debt               4\n",
      "2  Other features, terms, or problems               5\n",
      "3      Trouble during payment process               4\n",
      "4                    Fees or interest               3\n",
      "5                 Managing an account               3\n",
      "6                 Managing an account               3\n",
      "7      Trouble during payment process               4\n",
      "8                  Closing an account               3\n",
      "9                 Managing an account               3\n"
     ]
    }
   ],
   "source": [
    "# Define your scoring or analysis function, here using a simple word count as an example\n",
    "def bing_liu_score(text):\n",
    "    if text == 'no review':\n",
    "        return None  # Skip scoring if no review\n",
    "    words = text.lower().split()\n",
    "    return len(words)  # Returns the number of words as a measure of text length\n",
    "\n",
    "# Apply the function to the 'text' column\n",
    "df['Bing_Liu_Score'] = df['text'].apply(bing_liu_score)\n",
    "\n",
    "# Check the resulting scores to see how they vary\n",
    "print(df[['text', 'Bing_Liu_Score']].head(10))\n"
   ]
  },
  {
   "cell_type": "markdown",
   "id": "5e44ce40",
   "metadata": {},
   "source": [
    "#### The code sets the 'overall' column of the DataFrame df by extracting the 'overall' value from each dictionary in the '_source' column, or the 'zip_code' if 'overall' is not present."
   ]
  },
  {
   "cell_type": "code",
   "execution_count": 62,
   "id": "d393646b",
   "metadata": {},
   "outputs": [],
   "source": [
    "df['overall'] = df['_source'].apply(lambda x: x.get('overall', x.get('zip_code'))) "
   ]
  },
  {
   "cell_type": "markdown",
   "id": "fa6b15c7",
   "metadata": {},
   "source": [
    "\n",
    "#### The code groups the DataFrame df by the 'overall' column, calculates the mean of the 'Bing_Liu_Score' for each group, stores the result in the variable result, and then prints these mean values"
   ]
  },
  {
   "cell_type": "code",
   "execution_count": 63,
   "id": "c1609de3",
   "metadata": {},
   "outputs": [
    {
     "name": "stdout",
     "output_type": "stream",
     "text": [
      "         Bing_Liu_Score\n",
      "overall                \n",
      "*1212          2.000000\n",
      "00167          2.000000\n",
      "00457          4.000000\n",
      "00612          5.000000\n",
      "00613          4.000000\n",
      "...                 ...\n",
      "99802          2.000000\n",
      "99827          7.000000\n",
      "998XX          4.666667\n",
      "99999          6.200000\n",
      "999XX          2.000000\n",
      "\n",
      "[9442 rows x 1 columns]\n"
     ]
    }
   ],
   "source": [
    "# Group by 'overall' and calculate the mean of 'Bing_Liu_Score'\n",
    "result = df.groupby('overall').agg({'Bing_Liu_Score': 'mean'})\n",
    "\n",
    "# Print the results\n",
    "print(result)\n"
   ]
  },
  {
   "cell_type": "code",
   "execution_count": null,
   "id": "4931ecb2",
   "metadata": {},
   "outputs": [],
   "source": []
  }
 ],
 "metadata": {
  "kernelspec": {
   "display_name": "Python 3 (ipykernel)",
   "language": "python",
   "name": "python3"
  },
  "language_info": {
   "codemirror_mode": {
    "name": "ipython",
    "version": 3
   },
   "file_extension": ".py",
   "mimetype": "text/x-python",
   "name": "python",
   "nbconvert_exporter": "python",
   "pygments_lexer": "ipython3",
   "version": "3.11.5"
  }
 },
 "nbformat": 4,
 "nbformat_minor": 5
}
